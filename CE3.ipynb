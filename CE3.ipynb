{
  "nbformat": 4,
  "nbformat_minor": 0,
  "metadata": {
    "colab": {
      "name": "CE3.ipynb",
      "provenance": [],
      "authorship_tag": "ABX9TyMlISy0niTbANUMsqH1mbmD",
      "include_colab_link": true
    },
    "kernelspec": {
      "name": "python3",
      "display_name": "Python 3"
    }
  },
  "cells": [
    {
      "cell_type": "markdown",
      "metadata": {
        "id": "view-in-github",
        "colab_type": "text"
      },
      "source": [
        "<a href=\"https://colab.research.google.com/github/SimonSanfeliu/Metodos-Experimentales/blob/master/CE3.ipynb\" target=\"_parent\"><img src=\"https://colab.research.google.com/assets/colab-badge.svg\" alt=\"Open In Colab\"/></a>"
      ]
    },
    {
      "cell_type": "code",
      "metadata": {
        "id": "roCQxJLONT9q",
        "colab_type": "code",
        "colab": {}
      },
      "source": [
        "import numpy as np\n",
        "import matplotlib.pyplot as plt\n",
        "import math as m"
      ],
      "execution_count": 18,
      "outputs": []
    },
    {
      "cell_type": "code",
      "metadata": {
        "id": "55xqFuPONYUl",
        "colab_type": "code",
        "colab": {}
      },
      "source": [
        "x = np.array([0.1,0.35,1.32,2.55,4.3])\n",
        "y = np.array([0.86,0.592,0.138,0.021,0.002])\n",
        "Y = np.log(y)\n",
        "s_x = x.sum()\n",
        "s_y = Y.sum()\n",
        "xy = x*Y\n",
        "s_xy = xy.sum()\n",
        "x2 = x**2\n",
        "s_x2 = x2.sum()"
      ],
      "execution_count": 49,
      "outputs": []
    },
    {
      "cell_type": "code",
      "metadata": {
        "id": "J4yXhnDPNfbO",
        "colab_type": "code",
        "colab": {}
      },
      "source": [
        "a = (s_xy - (1/5)*s_x*s_y)/(s_x2 - (1/5)*(s_x)**2)\n",
        "b = (1/5)*(s_y - a*s_x)"
      ],
      "execution_count": 50,
      "outputs": []
    },
    {
      "cell_type": "code",
      "metadata": {
        "id": "iNMj-XjJNh3O",
        "colab_type": "code",
        "colab": {}
      },
      "source": [
        "t = (Y - a*x - b)**2\n",
        "X = t.sum()\n",
        "s = (Y - (1/5)*Y)**2\n",
        "SST = s.sum()\n",
        "R = 1 - X/SST"
      ],
      "execution_count": 63,
      "outputs": []
    },
    {
      "cell_type": "code",
      "metadata": {
        "id": "DU3_YqliNl_3",
        "colab_type": "code",
        "colab": {
          "base_uri": "https://localhost:8080/",
          "height": 260
        },
        "outputId": "0abe5599-e320-469a-9211-fa141a83afcf"
      },
      "source": [
        "print('x_i = '+ str(x))\n",
        "print('sum x_i = '+ str(s_x))\n",
        "print('y_i = '+ str(Y))\n",
        "print('sum y_i = '+ str(s_y))\n",
        "print('x_i*y_i = '+ str(xy))\n",
        "print('sum x_i*y_i = '+ str(s_xy))\n",
        "print('(x_i)^2 = '+ str(x2))\n",
        "print('sum (x_i)^2 = '+ str(s_x2))\n",
        "print('\\n')\n",
        "print('a = ' + str(a))\n",
        "print('b = ' + str(b))\n",
        "print('R2 = ' + str(R))"
      ],
      "execution_count": 64,
      "outputs": [
        {
          "output_type": "stream",
          "text": [
            "x_i = [0.1  0.35 1.32 2.55 4.3 ]\n",
            "sum x_i = 8.620000000000001\n",
            "y_i = [-0.15082289 -0.52424864 -1.98050159 -3.86323284 -6.2146081 ]\n",
            "sum y_i = -12.733414067338552\n",
            "x_i*y_i = [-1.50822890e-02 -1.83487025e-01 -2.61426210e+00 -9.85124375e+00\n",
            " -2.67228148e+01]\n",
            "sum x_i*y_i = -39.38688998668186\n",
            "(x_i)^2 = [1.0000e-02 1.2250e-01 1.7424e+00 6.5025e+00 1.8490e+01]\n",
            "sum (x_i)^2 = 26.867399999999996\n",
            "\n",
            "\n",
            "a = -1.452084711855742\n",
            "b = -0.04328877022841091\n",
            "R2 = 0.9994163424973175\n"
          ],
          "name": "stdout"
        }
      ]
    },
    {
      "cell_type": "code",
      "metadata": {
        "id": "b9q7OqSTZ_cv",
        "colab_type": "code",
        "colab": {
          "base_uri": "https://localhost:8080/",
          "height": 35
        },
        "outputId": "f041da4a-715c-481f-83a8-df3abb5e1ed8"
      },
      "source": [
        "C2 = a\n",
        "C1 = m.exp(b)\n",
        "print(str(C1))"
      ],
      "execution_count": 65,
      "outputs": [
        {
          "output_type": "stream",
          "text": [
            "0.9576348137115542\n"
          ],
          "name": "stdout"
        }
      ]
    },
    {
      "cell_type": "code",
      "metadata": {
        "id": "JqLG1NX3bnZE",
        "colab_type": "code",
        "colab": {}
      },
      "source": [
        "reg = a*x + b"
      ],
      "execution_count": 66,
      "outputs": []
    },
    {
      "cell_type": "code",
      "metadata": {
        "id": "7vIn55nlbbf_",
        "colab_type": "code",
        "colab": {
          "base_uri": "https://localhost:8080/",
          "height": 379
        },
        "outputId": "9322669b-d34b-456e-8a9a-240dccaac129"
      },
      "source": [
        "plt.figure(figsize= (15,5))\n",
        "plt.plot(x,Y,'o',label= 'Datos originales')\n",
        "plt.plot(x,reg,label= 'Ajuste lineal')\n",
        "plt.xlabel('Tiempo [s]', fontsize = 15)\n",
        "plt.ylabel('ln(Probabilidad)', fontsize = 15)\n",
        "plt.title('Probabilidad de encontrar un fotón en una caja', fontsize = 20)\n",
        "plt.legend(loc = 'best', fontsize = 12)"
      ],
      "execution_count": 68,
      "outputs": [
        {
          "output_type": "execute_result",
          "data": {
            "text/plain": [
              "<matplotlib.legend.Legend at 0x7fe952f55a58>"
            ]
          },
          "metadata": {
            "tags": []
          },
          "execution_count": 68
        },
        {
          "output_type": "display_data",
          "data": {
            "image/png": "[encoded data removed]",
            "text/plain": [
              "<Figure size 1080x360 with 1 Axes>"
            ]
          },
          "metadata": {
            "tags": [],
            "needs_background": "light"
          }
        }
      ]
    }
  ]
}