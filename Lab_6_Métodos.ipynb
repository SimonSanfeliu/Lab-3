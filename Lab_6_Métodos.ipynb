{
  "nbformat": 4,
  "nbformat_minor": 0,
  "metadata": {
    "colab": {
      "name": "Lab 6 Métodos.ipynb",
      "provenance": [],
      "authorship_tag": "ABX9TyPLqHGBAxo5l1YjRYJfpbzs",
      "include_colab_link": true
    },
    "kernelspec": {
      "name": "python3",
      "display_name": "Python 3"
    }
  },
  "cells": [
    {
      "cell_type": "markdown",
      "metadata": {
        "id": "view-in-github",
        "colab_type": "text"
      },
      "source": [
        "<a href=\"https://colab.research.google.com/github/SimonSanfeliu/Metodos-Experimentales/blob/master/Lab_6_M%C3%A9todos.ipynb\" target=\"_parent\"><img src=\"https://colab.research.google.com/assets/colab-badge.svg\" alt=\"Open In Colab\"/></a>"
      ]
    },
    {
      "cell_type": "code",
      "metadata": {
        "id": "JPFBERKIzl9N",
        "colab_type": "code",
        "colab": {}
      },
      "source": [
        "import numpy as np\n",
        "import matplotlib.pyplot as plt"
      ],
      "execution_count": 2,
      "outputs": []
    },
    {
      "cell_type": "code",
      "metadata": {
        "id": "mBZz06Ahz-KK",
        "colab_type": "code",
        "colab": {}
      },
      "source": [
        "x = np.array([1,2,3,4,5,6,7,8,9,10,11,12,13])\n",
        "y = np.array([117.188,210.938,328.125,656.25,948.375,1312.5,1664.063,1992.188,2320.313,2648.438,2976.563,3304.688,3632.813])\n",
        "s_x = x.sum()\n",
        "s_y = y.sum()\n",
        "xy = x*y\n",
        "s_xy = xy.sum()\n",
        "x2 = x**2\n",
        "s_x2 = x2.sum()"
      ],
      "execution_count": 3,
      "outputs": []
    },
    {
      "cell_type": "code",
      "metadata": {
        "id": "g0KkPcUA1j7y",
        "colab_type": "code",
        "colab": {}
      },
      "source": [
        "a = (s_xy - (1/13)*s_x*s_y)/(s_x2 - (1/13)*(s_x)**2)\n",
        "b = (1/13)*(s_y - a*s_x)"
      ],
      "execution_count": 10,
      "outputs": []
    },
    {
      "cell_type": "code",
      "metadata": {
        "id": "nYDToRr92uSZ",
        "colab_type": "code",
        "colab": {}
      },
      "source": [
        "t = (y - a*x - b)**2\n",
        "X = t.sum()\n",
        "s = (y - (1/13)*y)**2\n",
        "SST = s.sum()\n",
        "R = 1 - X/SST"
      ],
      "execution_count": 11,
      "outputs": []
    },
    {
      "cell_type": "code",
      "metadata": {
        "id": "9mQokOHN6Chr",
        "colab_type": "code",
        "colab": {
          "base_uri": "https://localhost:8080/",
          "height": 277
        },
        "outputId": "d23a09b3-2765-461e-c467-2fc19c908d8b"
      },
      "source": [
        "print('x_i = '+ str(x))\n",
        "print('sum x_i = '+ str(s_x))\n",
        "print('y_i = '+ str(y))\n",
        "print('sum y_i = '+ str(s_y))\n",
        "print('x_i*y_i = '+ str(xy))\n",
        "print('sum x_i*y_i = '+ str(s_xy))\n",
        "print('(x_i)^2 = '+ str(x2))\n",
        "print('sum (x_i)^2 = '+ str(s_x2))\n",
        "print('\\n')\n",
        "print('a = ' + str(a))\n",
        "print('b = ' + str(b))\n",
        "print('R2 = ' + str(R))"
      ],
      "execution_count": 12,
      "outputs": [
        {
          "output_type": "stream",
          "text": [
            "x_i = [ 1  2  3  4  5  6  7  8  9 10 11 12 13]\n",
            "sum x_i = 91\n",
            "y_i = [ 117.188  210.938  328.125  656.25   948.375 1312.5   1664.063 1992.188\n",
            " 2320.313 2648.438 2976.563 3304.688 3632.813]\n",
            "sum y_i = 22112.442000000003\n",
            "x_i*y_i = [  117.188   421.876   984.375  2625.     4741.875  7875.    11648.441\n",
            " 15937.504 20882.817 26484.38  32742.193 39656.256 47226.569]\n",
            "sum x_i*y_i = 211343.474\n",
            "(x_i)^2 = [  1   4   9  16  25  36  49  64  81 100 121 144 169]\n",
            "sum (x_i)^2 = 819\n",
            "\n",
            "\n",
            "a = 310.74934065934053\n",
            "b = -474.28830769230655\n",
            "R2 = 0.996910289827125\n"
          ],
          "name": "stdout"
        }
      ]
    },
    {
      "cell_type": "code",
      "metadata": {
        "id": "c_vbvJ9m8ooU",
        "colab_type": "code",
        "colab": {
          "base_uri": "https://localhost:8080/",
          "height": 377
        },
        "outputId": "b7c5351c-1409-4384-db6d-d6a9ce37e89d"
      },
      "source": [
        "plt.figure(figsize= (15,5))\n",
        "plt.plot(x,y,'o')\n",
        "plt.xlabel('Modos de oscilación', fontsize = 15)\n",
        "plt.ylabel('Frecuencia [Hz]', fontsize = 15)\n",
        "plt.title('Frecuencia de los modos', fontsize = 20)"
      ],
      "execution_count": 19,
      "outputs": [
        {
          "output_type": "execute_result",
          "data": {
            "text/plain": [
              "Text(0.5, 1.0, 'Frecuencia de los modos')"
            ]
          },
          "metadata": {
            "tags": []
          },
          "execution_count": 19
        },
        {
          "output_type": "display_data",
          "data": {
            "image/png": "[encoded data removed]",
            "text/plain": [
              "<Figure size 1080x360 with 1 Axes>"
            ]
          },
          "metadata": {
            "tags": [],
            "needs_background": "light"
          }
        }
      ]
    },
    {
      "cell_type": "code",
      "metadata": {
        "id": "x2jO0iuv_JlH",
        "colab_type": "code",
        "colab": {}
      },
      "source": [
        "reg = a*x + b"
      ],
      "execution_count": 14,
      "outputs": []
    },
    {
      "cell_type": "code",
      "metadata": {
        "id": "cVxRBYCz-UJm",
        "colab_type": "code",
        "colab": {
          "base_uri": "https://localhost:8080/",
          "height": 377
        },
        "outputId": "6f0d6e07-10b0-4b83-9bfe-3d184078f5ce"
      },
      "source": [
        "plt.figure(figsize= (15,5))\n",
        "plt.plot(x,y,'o',label= 'Datos originales')\n",
        "plt.plot(x,reg,label= 'Ajuste lineal')\n",
        "plt.xlabel('Modos de oscilación', fontsize = 15)\n",
        "plt.ylabel('Frecuencia [Hz]', fontsize = 15)\n",
        "plt.title('Frecuencia de los modos', fontsize = 20)\n",
        "plt.legend(loc = 'best', fontsize = 12)"
      ],
      "execution_count": 21,
      "outputs": [
        {
          "output_type": "execute_result",
          "data": {
            "text/plain": [
              "<matplotlib.legend.Legend at 0x7f368cdafc88>"
            ]
          },
          "metadata": {
            "tags": []
          },
          "execution_count": 21
        },
        {
          "output_type": "display_data",
          "data": {
            "image/png": "[encoded data removed]",
            "text/plain": [
              "<Figure size 1080x360 with 1 Axes>"
            ]
          },
          "metadata": {
            "tags": [],
            "needs_background": "light"
          }
        }
      ]
    },
    {
      "cell_type": "code",
      "metadata": {
        "id": "l7FX6rQJB1UL",
        "colab_type": "code",
        "colab": {
          "base_uri": "https://localhost:8080/",
          "height": 87
        },
        "outputId": "9d47718b-fe3f-4d11-f1c7-aa70c67743bc"
      },
      "source": [
        "L = 0.645\n",
        "c1 = (2*L/x)*(a*x+b)\n",
        "print(c1)\n",
        "print(c1.mean())"
      ],
      "execution_count": 16,
      "outputs": [
        {
          "output_type": "stream",
          "text": [
            "[-210.96526747   94.95069099  196.92267714  247.90867022  278.50026607\n",
            "  298.8946633   313.46208989  324.38765984  332.88532535  339.68345776\n",
            "  345.24556609  349.88065637  353.80265584]\n",
            "251.19685472168288\n"
          ],
          "name": "stdout"
        }
      ]
    },
    {
      "cell_type": "code",
      "metadata": {
        "id": "k_G5D6xiF0Wn",
        "colab_type": "code",
        "colab": {
          "base_uri": "https://localhost:8080/",
          "height": 35
        },
        "outputId": "ba02ce0d-debe-4e0e-fc9b-728e63b22d6e"
      },
      "source": [
        "c = 2*L*a\n",
        "print(c)"
      ],
      "execution_count": 17,
      "outputs": [
        {
          "output_type": "stream",
          "text": [
            "400.8666494505493\n"
          ],
          "name": "stdout"
        }
      ]
    },
    {
      "cell_type": "code",
      "metadata": {
        "id": "1xBCWOrNGIqC",
        "colab_type": "code",
        "colab": {
          "base_uri": "https://localhost:8080/",
          "height": 243
        },
        "outputId": "f86a4a15-35b2-4a95-8979-bfb6092dfc5a"
      },
      "source": [
        "f = c*x/(2*L)\n",
        "print(f)\n",
        "print(reg)\n",
        "print('\\n')\n",
        "f1 = c1.mean()*x/(2*L)\n",
        "print(f1)\n",
        "print(y)"
      ],
      "execution_count": 18,
      "outputs": [
        {
          "output_type": "stream",
          "text": [
            "[ 310.74934066  621.49868132  932.24802198 1242.99736264 1553.7467033\n",
            " 1864.49604396 2175.24538462 2485.99472527 2796.74406593 3107.49340659\n",
            " 3418.24274725 3728.99208791 4039.74142857]\n",
            "[-163.53896703  147.21037363  457.95971429  768.70905495 1079.4583956\n",
            " 1390.20773626 1700.95707692 2011.70641758 2322.45575824 2633.2050989\n",
            " 2943.95443956 3254.70378022 3565.45312088]\n",
            "\n",
            "\n",
            "[ 194.72624397  389.45248794  584.17873191  778.90497588  973.63121985\n",
            " 1168.35746382 1363.08370779 1557.80995176 1752.53619573 1947.2624397\n",
            " 2141.98868367 2336.71492764 2531.44117161]\n",
            "[ 117.188  210.938  328.125  656.25   948.375 1312.5   1664.063 1992.188\n",
            " 2320.313 2648.438 2976.563 3304.688 3632.813]\n"
          ],
          "name": "stdout"
        }
      ]
    }
  ]
}